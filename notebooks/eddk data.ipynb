{
 "cells": [
  {
   "cell_type": "markdown",
   "metadata": {},
   "source": [
    "# EDDK Validation Data\n",
    "\n",
    "This notebook is used to process the validation data obtained from the Cologne Bonn Airport and:\n",
    "\n",
    "1. generate the *flights EDDK.csv* file\n",
    "2. generate the *noise events EDDK.csv* file\n",
    "3. obtain the noise thresholds used at the airport"
   ]
  },
  {
   "cell_type": "code",
   "execution_count": null,
   "metadata": {},
   "outputs": [],
   "source": [
    "from pathlib import Path\n",
    "\n",
    "import numpy as np\n",
    "import pandas as pd\n",
    "\n",
    "input_folder = Path(\"data/EDDK 2019\")\n",
    "output_folder = Path(\"out/eddk\")\n",
    "\n",
    "output_folder.mkdir(parents=True, exist_ok=True)"
   ]
  },
  {
   "cell_type": "markdown",
   "metadata": {},
   "source": [
    "## Flights from Logs"
   ]
  },
  {
   "cell_type": "code",
   "execution_count": null,
   "metadata": {},
   "outputs": [],
   "source": [
    "path_icao_aircraft = input_folder / \"icao codes.csv\"\n",
    "path_arrivals = input_folder / \"arrivals flightplan.csv\"\n",
    "path_departures = input_folder / \"departures flightplan.csv\"\n",
    "\n",
    "path_out = output_folder / \"EDDK flights.csv\"\n",
    "cols = [\n",
    "    \"time\",\n",
    "    \"operation\",\n",
    "    \"runway\",\n",
    "    \"aircraft\",\n",
    "]\n",
    "\n",
    "arr = pd.read_csv(path_arrivals, usecols=cols)\n",
    "arr[\"time\"] = pd.to_datetime(arr[\"time\"], format=r\"%d.%m.%Y %H:%M\")\n",
    "arr[\"operation\"] = arr[\"operation\"].replace(\"Landung\", \"Arrival\")\n",
    "\n",
    "dep = pd.read_csv(path_departures, usecols=cols)\n",
    "dep[\"time\"] = pd.to_datetime(dep[\"time\"], format=r\"%d.%m.%Y %H:%M\")\n",
    "dep[\"operation\"] = dep[\"operation\"].replace(\"Start\", \"Departure\")\n",
    "\n",
    "flights = pd.concat([arr, dep])\n",
    "\n",
    "print(f\"Total arrivals: {len(arr)}\")\n",
    "print(f\"Total departures: {len(dep)}\")\n",
    "print(f\"Total flights: {len(flights)}\")\n",
    "\n",
    "icao_acft = pd.read_csv(path_icao_aircraft)\n",
    "\n",
    "flights = flights.merge(icao_acft[[\"aircraft\", \"icao_code\"]], how=\"left\", on=\"aircraft\")\n",
    "flights = flights.loc[flights[\"aircraft\"].isin(icao_acft[\"aircraft\"].loc[icao_acft[\"anp\"] == 1])]\n",
    "flights.to_csv(path_out, index=False)\n",
    "\n",
    "print(f\"Filtered arrivals: {len(flights.loc[flights['operation'] == 'Arrival'])}\")\n",
    "print(f\"Filtered departures: {len(flights.loc[flights['operation'] == 'Departure'])}\")\n",
    "print(f\"Filtered flights: {len(flights)}\")"
   ]
  },
  {
   "cell_type": "markdown",
   "metadata": {},
   "source": [
    "##  Flights from Radar"
   ]
  },
  {
   "cell_type": "code",
   "execution_count": null,
   "metadata": {},
   "outputs": [],
   "source": [
    "path_arrivals = input_folder / \"arrivals radar operations.csv\"\n",
    "path_departures = input_folder / \"departures radar operations.csv\"\n",
    "path_out = output_folder / \"EDDK radar operations.csv\"\n",
    "\n",
    "cols = [\n",
    "    \"id\",\n",
    "    \"time\",\n",
    "    \"operation\",\n",
    "    \"runway\",\n",
    "    \"aircraft\",\n",
    "    \"plot_count\",\n",
    "]\n",
    "\n",
    "arr = pd.read_csv(path_arrivals, usecols=cols)\n",
    "arr_str = arr.select_dtypes(\"object\")\n",
    "arr[arr_str.columns] = arr_str.apply(lambda x: x.str.strip())\n",
    "arr[\"time\"] = pd.to_datetime(arr[\"time\"], format=r\"%d.%m.%y %H:%M:%S\")\n",
    "arr[\"operation\"] = arr[\"operation\"].replace(\"ARR\", \"Arrival\")\n",
    "dep = pd.read_csv(path_departures, usecols=cols)\n",
    "dep_str = dep.select_dtypes(\"object\")\n",
    "dep[arr_str.columns] = dep_str.apply(lambda x: x.str.strip())\n",
    "dep[\"time\"] = pd.to_datetime(dep[\"time\"], format=r\"%d.%m.%y %H:%M:%S\")\n",
    "dep[\"operation\"] = dep[\"operation\"].replace(\"DEP\", \"Departure\")\n",
    "flights = pd.concat([arr, dep])\n",
    "print(f\"Total arrivals: {len(arr)}\")\n",
    "print(f\"Total departures: {len(dep)}\")\n",
    "print(f\"Total flights: {len(flights)}\")\n",
    "\n",
    "icao_acft = pd.read_csv(path_icao_aircraft)\n",
    "flights = flights.merge(icao_acft[[\"aircraft\", \"icao_code\"]], how=\"left\", on=\"aircraft\")\n",
    "flights = flights.loc[flights[\"aircraft\"].isin(icao_acft[\"aircraft\"].loc[icao_acft[\"anp\"] == 1])]\n",
    "flights = flights.loc[flights[\"plot_count\"] > 10].drop(columns=\"plot_count\")\n",
    "flights.to_csv(path_out, index=False)\n",
    "print(f\"Filtered arrivals: {len(flights.loc[flights['operation'] == 'Arrival'])}\")\n",
    "print(f\"Filtered departures: {len(flights.loc[flights['operation'] == 'Departure'])}\")\n",
    "print(f\"Filtered flights: {len(flights)}\")"
   ]
  },
  {
   "cell_type": "markdown",
   "metadata": {},
   "source": [
    "## Noise Events"
   ]
  },
  {
   "cell_type": "code",
   "execution_count": null,
   "metadata": {},
   "outputs": [],
   "source": [
    "path_arrivals = input_folder / \"arrivals noise.csv\"\n",
    "path_departures = input_folder / \"departures noise.csv\"\n",
    "path_out = output_folder / \"EDDK noise events.csv\"\n",
    "cols = [\n",
    "    \"id\",\n",
    "    \"receptor\",\n",
    "    \"time\",\n",
    "    \"operation\",\n",
    "    \"runway\",\n",
    "    \"aircraft\",\n",
    "    \"lamax\",\n",
    "    \"sel\",\n",
    "]\n",
    "\n",
    "\n",
    "arr = pd.read_csv(path_arrivals, usecols=cols)\n",
    "arr[\"time\"] = pd.to_datetime(arr[\"time\"], format=r\"%d.%m.%Y %H:%M\")\n",
    "arr[\"operation\"] = arr[\"operation\"].replace(\"Landung\", \"Arrival\")\n",
    "dep = pd.read_csv(path_departures, usecols=cols)\n",
    "dep[\"time\"] = pd.to_datetime(dep[\"time\"], format=r\"%d.%m.%Y %H:%M\")\n",
    "dep[\"operation\"] = dep[\"operation\"].replace(\"Start\", \"Departure\")\n",
    "noise_events = pd.concat([arr, dep])\n",
    "print(f\"Total arrivals: {len(arr['id'].drop_duplicates())}\")\n",
    "print(f\"Total departures: {len(dep['id'].drop_duplicates())}\")\n",
    "print(f\"Total flights: {len(noise_events['id'].drop_duplicates())}\")\n",
    "\n",
    "icao_acft = pd.read_csv(path_icao_aircraft)\n",
    "noise_events = noise_events.loc[noise_events[\"aircraft\"].isin(icao_acft[\"aircraft\"].loc[icao_acft[\"anp\"] == 1])]\n",
    "noise_events = noise_events.merge(icao_acft[[\"aircraft\", \"icao_code\"]], how=\"left\", on=\"aircraft\")\n",
    "\n",
    "noise_events[\"receptor\"] = noise_events[\"receptor\"].str.replace(\" \", \"\")\n",
    "noise_events = noise_events.rename(columns={\"receptor\": \"receptor_id\"})[\n",
    "    [\n",
    "        \"id\",\n",
    "        \"time\",\n",
    "        \"operation\",\n",
    "        \"runway\",\n",
    "        \"aircraft\",\n",
    "        \"icao_code\",\n",
    "        \"receptor_id\",\n",
    "        \"lamax\",\n",
    "        \"sel\",\n",
    "    ]\n",
    "]\n",
    "noise_events.to_csv(path_out, index=False)\n",
    "print(f\"Filtered arrivals: {len(noise_events.loc[noise_events['operation'] == 'Arrival', 'id'].drop_duplicates())}\")\n",
    "print(f\"Filtered departures: {len(noise_events.loc[noise_events['operation'] == 'Departure', 'id'].drop_duplicates())}\")\n",
    "print(f\"Filtered flights: {len(noise_events['id'].drop_duplicates())}\")"
   ]
  },
  {
   "cell_type": "markdown",
   "metadata": {},
   "source": [
    "## Noise Thresholds"
   ]
  },
  {
   "cell_type": "code",
   "execution_count": null,
   "metadata": {},
   "outputs": [],
   "source": [
    "thresholds = (\n",
    "    noise_events[[\"receptor_id\", \"time\", \"lamax\"]]\n",
    "    .groupby([noise_events[\"receptor_id\"], noise_events[\"time\"].dt.hour])\n",
    "    .min()\n",
    ")\n",
    "thresholds[\"lamax\"] = np.floor(thresholds[\"lamax\"])\n",
    "print(thresholds)"
   ]
  }
 ],
 "metadata": {
  "kernelspec": {
   "display_name": ".venv",
   "language": "python",
   "name": "python3"
  },
  "language_info": {
   "codemirror_mode": {
    "name": "ipython",
    "version": 3
   },
   "file_extension": ".py",
   "mimetype": "text/x-python",
   "name": "python",
   "nbconvert_exporter": "python",
   "pygments_lexer": "ipython3",
   "version": "3.10.11"
  }
 },
 "nbformat": 4,
 "nbformat_minor": 2
}
