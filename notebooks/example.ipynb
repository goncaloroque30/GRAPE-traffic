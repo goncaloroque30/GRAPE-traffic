{
 "cells": [
  {
   "cell_type": "markdown",
   "metadata": {},
   "source": [
    "# Example\n",
    "\n",
    "This notebooks exemplifies the functionality provided by *GRAPE-traffic*, the estimation of environmental impacts with trajectory data.\n",
    "\n",
    "It uses the `quickstart` dataset from the *traffic* library, for which no access credentials to the Opensky Network are necessary. Results produces are stored in the path specified in `output_folder` below.\n"
   ]
  },
  {
   "cell_type": "code",
   "execution_count": 1,
   "metadata": {},
   "outputs": [
    {
     "name": "stderr",
     "output_type": "stream",
     "text": [
      "c:\\Users\\gonca\\Dev\\GRAPE-traffic\\.venv\\lib\\site-packages\\openpyxl\\worksheet\\_reader.py:329: UserWarning: Unknown extension is not supported and will be removed\n",
      "  warn(msg)\n"
     ]
    }
   ],
   "source": [
    "from pathlib import Path\n",
    "\n",
    "from traffic.data.samples import quickstart\n",
    "\n",
    "from GRAPE_traffic import AirportTraffic, GrapeTraffic\n",
    "\n",
    "output_folder = Path(\"out/example\")\n",
    "output_folder.mkdir(parents=True, exist_ok=True)"
   ]
  },
  {
   "cell_type": "markdown",
   "metadata": {},
   "source": [
    "## Input Trajectories\n",
    "\n",
    "We first determine which trajectories in the dataset are arrivals and which are departures, simply by looking at the sign of the mean vertical rate. This is a simplification only used for demonstration purposes.\n",
    "\n",
    "We will focus on flights at Paris Orly as an example. We set the destination and origin features of arrivals/departures as `LFPO` respectively, and deal later with arrival/departures which are not for Paris Orly"
   ]
  },
  {
   "cell_type": "code",
   "execution_count": 2,
   "metadata": {},
   "outputs": [
    {
     "name": "stdout",
     "output_type": "stream",
     "text": [
      "99 arrivals\n"
     ]
    },
    {
     "data": {
      "application/vnd.jupyter.widget-view+json": {
       "model_id": "acf5914de0514d8ba1a1cee878b3cdd7",
       "version_major": 2,
       "version_minor": 0
      },
      "text/plain": [
       "Map(center=[48.72333, 2.37944], controls=(ZoomControl(options=['position', 'zoom_in_text', 'zoom_in_title', 'z…"
      ]
     },
     "execution_count": 2,
     "metadata": {},
     "output_type": "execute_result"
    }
   ],
   "source": [
    "arr = quickstart.feature_lt(\"vertical_rate_mean\", 0).eval()\n",
    "arr.data[\"destination\"] = \"LFPO\"  # type: ignore\n",
    "print(f\"{len(arr)} arrivals\")  # type: ignore\n",
    "\n",
    "arr.map_leaflet(airport=\"LFPO\")  # type: ignore"
   ]
  },
  {
   "cell_type": "code",
   "execution_count": 3,
   "metadata": {},
   "outputs": [
    {
     "name": "stdout",
     "output_type": "stream",
     "text": [
      "136 departures\n"
     ]
    },
    {
     "data": {
      "application/vnd.jupyter.widget-view+json": {
       "model_id": "ede8eef119d44ecaa63f7396ea60cd47",
       "version_major": 2,
       "version_minor": 0
      },
      "text/plain": [
       "Map(center=[48.72333, 2.37944], controls=(ZoomControl(options=['position', 'zoom_in_text', 'zoom_in_title', 'z…"
      ]
     },
     "execution_count": 3,
     "metadata": {},
     "output_type": "execute_result"
    }
   ],
   "source": [
    "dep = quickstart.feature_gt(\"vertical_rate_mean\", 0).eval()\n",
    "dep.data[\"origin\"] = \"LFPO\"  # type: ignore\n",
    "print(f\"{len(dep)} departures\")  # type: ignore\n",
    "\n",
    "dep.map_leaflet(airport=\"LFPO\")  # type: ignore"
   ]
  },
  {
   "cell_type": "markdown",
   "metadata": {},
   "source": [
    "## Trajectory Processing\n",
    "\n",
    "Having obtained the arrival and departure flights as `Traffic` instances, we can instantiate the `AirportTraffic` instance and start processing. The first steps will be identical for most use cases:\n",
    "\n",
    "- `clean()`: basic clean up for each flight, such as removing overlapping points (in time), missing data and outliers.\n",
    "- `assign_ids()`: assign incremental `flight_id` feature to all flights. Arrivals default to `arr_00##` and departures to `dep_00##`.\n",
    "- `cumulative_distance()`: add the feature `cumdist` and remove overlapping points (geographically).\n",
    "\n",
    "We then call the `list_all()` method, which returns a pandas DataFrame which contains feature data for each flight, such as runway used, ANP aircraft identified, maximum cumulative distance, ... ."
   ]
  },
  {
   "cell_type": "code",
   "execution_count": 4,
   "metadata": {},
   "outputs": [
    {
     "name": "stdout",
     "output_type": "stream",
     "text": [
      "No runway: 177\n",
      "No aircraft: 27\n",
      "Cumdist < 10.0: 2\n"
     ]
    }
   ],
   "source": [
    "apt_traffic = AirportTraffic(arr, dep).clean().assign_ids().cumulative_distance()\n",
    "\n",
    "f = apt_traffic.list_all()\n",
    "\n",
    "if f is not None:\n",
    "    print(f\"No runway: {f['runway'].isna().sum()}\")\n",
    "    print(f\"No aircraft: {f['aircraft_id'].isna().sum()}\")\n",
    "    print(f\"Cumdist < {AirportTraffic.cumdist_min}: {(f['cumdist_max'] < AirportTraffic.cumdist_min).sum()}\")"
   ]
  },
  {
   "cell_type": "markdown",
   "metadata": {},
   "source": [
    "From the flight feature list it is already clear that some flights do not pass the necessary criteria to be used for environmental impact estimation. The methods used to clean out invalid data as well as to further clean the trajectories are `clean_arrivals()` for arrivals and `clean_departures()` for departures. Check out the documentation of each method to see exactly which actions are performed.\n",
    "\n",
    "We plot the arrival trajectories which demonstrates the processing done, e.g. arrivals for other airports than Paris Orly were discarded and arrival trajectories are clipped at a certain maximum altitude and at the landing threshold."
   ]
  },
  {
   "cell_type": "code",
   "execution_count": 5,
   "metadata": {},
   "outputs": [
    {
     "name": "stdout",
     "output_type": "stream",
     "text": [
      "Arrivals: 27\n",
      "Departures: 31\n"
     ]
    },
    {
     "data": {
      "application/vnd.jupyter.widget-view+json": {
       "model_id": "2118571847e241cca59fae257f50dd46",
       "version_major": 2,
       "version_minor": 0
      },
      "text/plain": [
       "Map(center=[48.72333, 2.37944], controls=(ZoomControl(options=['position', 'zoom_in_text', 'zoom_in_title', 'z…"
      ]
     },
     "execution_count": 5,
     "metadata": {},
     "output_type": "execute_result"
    }
   ],
   "source": [
    "apt_traffic = apt_traffic.clean_arrivals().clean_departures()\n",
    "\n",
    "print(f\"Arrivals: {len(apt_traffic.arr)}\")  # type: ignore\n",
    "print(f\"Departures: {len(apt_traffic.dep)}\")  # type: ignore\n",
    "\n",
    "apt_traffic.arr.map_leaflet(airport=\"LFPO\")  # type: ignore"
   ]
  },
  {
   "cell_type": "markdown",
   "metadata": {},
   "source": [
    "The last step in trajectory processing is to enhance the trajectory data with all the features necessary to estimate environmental impacts, i.e. TAS and aircraft thrust. The method `compute_thrust()` will add all required features.\n",
    "\n",
    "Below we also demonstrate the capability of `AirportTraffic` of saving and loading data. This is done simply by storing an `arrivals.csv` and a `departures.csv` file containing the trajectory data in a given folder."
   ]
  },
  {
   "cell_type": "code",
   "execution_count": 6,
   "metadata": {},
   "outputs": [],
   "source": [
    "apt_traffic.compute_thrust()\n",
    "\n",
    "apt_traffic.save(output_folder)\n",
    "apt_traffic = AirportTraffic.from_folder(output_folder)"
   ]
  },
  {
   "cell_type": "markdown",
   "metadata": {},
   "source": [
    "## Environmental Impact Calculation\n",
    "\n",
    "With processed and enhanced trajectories, we can now estimate noise and local air quality emissions with GRAPE. The `GrapeTraffic` class provides the functionality of inserting the data in an `AirportTraffic` instance into a new GRAPE study and run the calculations. The constructor takes three parameters:\n",
    "\n",
    "- `apt_traffic`: the `AirportTraffic` instance for which to calculate environmental impacts.\n",
    "- `receptors_path`: a file path to a `.csv` file containing the receptor locations for which to estimate noise. We use the locations in `example receptors.csv`, containing 4 randomly selected locations around Paris Orly.\n",
    "- `study_path`: the file path at which a new GRAPE study will be created. This defaults to `study.grp` in the working directory, but we set it to `example.grp` in the output folder defined above.\n",
    "\n",
    "After instantiating `GrapeTraffic`, we call the `run()` method which will take care of all the tasks:\n",
    "\n",
    "- call the [GRAPE command line tool](https://goncaloroque30.github.io/GRAPE-Docs/Application/CommandLineTool/) to create a new study at the `study_path` specified and import the ANP database into it.\n",
    "- transform all the input data in the `AirportTraffic` instance into the format specified in the [GRAPE schema](https://goncaloroque30.github.io/GRAPE-Docs/Schema/), especially the sections *LTO Fuel & Emissions*, *Fleet* and *Operations*.\n",
    "- create a scenario in the study with all flights in the `AirportTraffic` instance, a performance run to estimate fuel flow according to Doc9889, a noise run with the Doc29 noise model and the receptors specified and two emissions runs, one which just outputs the static values in the LTO cycle and other which calculates emissions for each trajectory segment, using the BFFM2 model. See the `Scenarios`, `Performance Run`, `Noise Run` and `Emissions Run` sections in the [GRAPE schema](https://goncaloroque30.github.io/GRAPE-Docs/Schema/).\n",
    "- cal again the [GRAPE command line tool](https://goncaloroque30.github.io/GRAPE-Docs/Application/CommandLineTool/) to run the performance run, the noise run and the two emissions runs created.\n"
   ]
  },
  {
   "cell_type": "code",
   "execution_count": 7,
   "metadata": {},
   "outputs": [
    {
     "name": "stdout",
     "output_type": "stream",
     "text": [
      "\n"
     ]
    }
   ],
   "source": [
    "GrapeTraffic.lto_emissions_cutoff = 3000 + 291  # Paris orly elevation is 291ft\n",
    "GrapeTraffic(\n",
    "    apt_traffic,\n",
    "    receptors_path=\"notebooks/example receptors.csv\",\n",
    "    study_path=output_folder / \"example.grp\",\n",
    ").run()"
   ]
  },
  {
   "cell_type": "markdown",
   "metadata": {},
   "source": [
    "The noise and local air quality emissions results are now available in the output tables of the study as specified in the [GRAPE schema](https://goncaloroque30.github.io/GRAPE-Docs/Schema/) and can be further analyzed."
   ]
  }
 ],
 "metadata": {
  "kernelspec": {
   "display_name": ".venv",
   "language": "python",
   "name": "python3"
  },
  "language_info": {
   "codemirror_mode": {
    "name": "ipython",
    "version": 3
   },
   "file_extension": ".py",
   "mimetype": "text/x-python",
   "name": "python",
   "nbconvert_exporter": "python",
   "pygments_lexer": "ipython3",
   "version": "3.10.11"
  }
 },
 "nbformat": 4,
 "nbformat_minor": 2
}
