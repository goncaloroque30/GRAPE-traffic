{
 "cells": [
  {
   "cell_type": "markdown",
   "metadata": {},
   "source": [
    "## Test Opensky\n",
    "\n",
    "Use this notebook to test if the accessing of historical Opensky Network data is working as expected."
   ]
  },
  {
   "cell_type": "code",
   "execution_count": null,
   "metadata": {},
   "outputs": [],
   "source": [
    "from GRAPE_traffic import AirportOpensky\n",
    "\n",
    "airport = \"LPPT\"\n",
    "start_time = \"2019-12-01 08:00:00\"\n",
    "end_time = \"2019-12-01 12:00:00\"\n",
    "\n",
    "\n",
    "apt = AirportOpensky(airport, start_time, end_time)\n",
    "arr = apt.fetch_arrivals()\n",
    "dep = apt.fetch_departures()\n",
    "\n",
    "if arr is not None:\n",
    "    print(f\"Arrivals: {len(arr)}\")\n",
    "if dep is not None:\n",
    "    print(f\"Departures: {len(dep)}\")"
   ]
  }
 ],
 "metadata": {
  "kernelspec": {
   "display_name": ".venv",
   "language": "python",
   "name": "python3"
  },
  "language_info": {
   "codemirror_mode": {
    "name": "ipython",
    "version": 3
   },
   "file_extension": ".py",
   "mimetype": "text/x-python",
   "name": "python",
   "nbconvert_exporter": "python",
   "pygments_lexer": "ipython3",
   "version": "3.10.11"
  }
 },
 "nbformat": 4,
 "nbformat_minor": 2
}
